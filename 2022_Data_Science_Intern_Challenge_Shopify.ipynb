{
  "nbformat": 4,
  "nbformat_minor": 0,
  "metadata": {
    "colab": {
      "name": "2022 Data Science Intern Challenge Shopify.ipynb",
      "provenance": [],
      "collapsed_sections": []
    },
    "kernelspec": {
      "name": "python3",
      "display_name": "Python 3"
    },
    "language_info": {
      "name": "python"
    }
  },
  "cells": [
    {
      "cell_type": "code",
      "metadata": {
        "id": "C3M-0_uF7NrS"
      },
      "source": [
        "import pandas as pd"
      ],
      "execution_count": null,
      "outputs": []
    },
    {
      "cell_type": "markdown",
      "metadata": {
        "id": "8PdPju-1S-Uz"
      },
      "source": [
        "Loading the dataset from my drive and showing first five rows"
      ]
    },
    {
      "cell_type": "code",
      "metadata": {
        "id": "heax7-x-7YnI"
      },
      "source": [
        "df=pd.read_csv('/content/drive/MyDrive/2019 Winter Data Science Intern Challenge Data Set - Sheet1.csv')"
      ],
      "execution_count": null,
      "outputs": []
    },
    {
      "cell_type": "code",
      "metadata": {
        "colab": {
          "base_uri": "https://localhost:8080/",
          "height": 203
        },
        "id": "EOzfiIu27jJf",
        "outputId": "1b759879-6b0a-46df-e994-f78a7a19d48c"
      },
      "source": [
        "df.head()"
      ],
      "execution_count": null,
      "outputs": [
        {
          "output_type": "execute_result",
          "data": {
            "text/html": [
              "<div>\n",
              "<style scoped>\n",
              "    .dataframe tbody tr th:only-of-type {\n",
              "        vertical-align: middle;\n",
              "    }\n",
              "\n",
              "    .dataframe tbody tr th {\n",
              "        vertical-align: top;\n",
              "    }\n",
              "\n",
              "    .dataframe thead th {\n",
              "        text-align: right;\n",
              "    }\n",
              "</style>\n",
              "<table border=\"1\" class=\"dataframe\">\n",
              "  <thead>\n",
              "    <tr style=\"text-align: right;\">\n",
              "      <th></th>\n",
              "      <th>order_id</th>\n",
              "      <th>shop_id</th>\n",
              "      <th>user_id</th>\n",
              "      <th>order_amount</th>\n",
              "      <th>total_items</th>\n",
              "      <th>payment_method</th>\n",
              "      <th>created_at</th>\n",
              "    </tr>\n",
              "  </thead>\n",
              "  <tbody>\n",
              "    <tr>\n",
              "      <th>0</th>\n",
              "      <td>1</td>\n",
              "      <td>53</td>\n",
              "      <td>746</td>\n",
              "      <td>224</td>\n",
              "      <td>2</td>\n",
              "      <td>cash</td>\n",
              "      <td>2017-03-13 12:36:56</td>\n",
              "    </tr>\n",
              "    <tr>\n",
              "      <th>1</th>\n",
              "      <td>2</td>\n",
              "      <td>92</td>\n",
              "      <td>925</td>\n",
              "      <td>90</td>\n",
              "      <td>1</td>\n",
              "      <td>cash</td>\n",
              "      <td>2017-03-03 17:38:52</td>\n",
              "    </tr>\n",
              "    <tr>\n",
              "      <th>2</th>\n",
              "      <td>3</td>\n",
              "      <td>44</td>\n",
              "      <td>861</td>\n",
              "      <td>144</td>\n",
              "      <td>1</td>\n",
              "      <td>cash</td>\n",
              "      <td>2017-03-14 4:23:56</td>\n",
              "    </tr>\n",
              "    <tr>\n",
              "      <th>3</th>\n",
              "      <td>4</td>\n",
              "      <td>18</td>\n",
              "      <td>935</td>\n",
              "      <td>156</td>\n",
              "      <td>1</td>\n",
              "      <td>credit_card</td>\n",
              "      <td>2017-03-26 12:43:37</td>\n",
              "    </tr>\n",
              "    <tr>\n",
              "      <th>4</th>\n",
              "      <td>5</td>\n",
              "      <td>18</td>\n",
              "      <td>883</td>\n",
              "      <td>156</td>\n",
              "      <td>1</td>\n",
              "      <td>credit_card</td>\n",
              "      <td>2017-03-01 4:35:11</td>\n",
              "    </tr>\n",
              "  </tbody>\n",
              "</table>\n",
              "</div>"
            ],
            "text/plain": [
              "   order_id  shop_id  user_id  ...  total_items  payment_method           created_at\n",
              "0         1       53      746  ...            2            cash  2017-03-13 12:36:56\n",
              "1         2       92      925  ...            1            cash  2017-03-03 17:38:52\n",
              "2         3       44      861  ...            1            cash   2017-03-14 4:23:56\n",
              "3         4       18      935  ...            1     credit_card  2017-03-26 12:43:37\n",
              "4         5       18      883  ...            1     credit_card   2017-03-01 4:35:11\n",
              "\n",
              "[5 rows x 7 columns]"
            ]
          },
          "metadata": {},
          "execution_count": 3
        }
      ]
    },
    {
      "cell_type": "markdown",
      "metadata": {
        "id": "R7F0OMDnfEWt"
      },
      "source": [
        "# **Question 1**"
      ]
    },
    {
      "cell_type": "markdown",
      "metadata": {
        "id": "53ZvaHwP_vlS"
      },
      "source": [
        "# Think about what could be going wrong with our calculation\n",
        "\n",
        "Average Order Value (AOV) is an ecommerce metric that tracks the average dollar amount spent whenever a customer places an order on a website or application.\n",
        "\n",
        "AOV=REVENUE/NUMBER OF ORDERS\n",
        "\n",
        "For example, let’s say that in the month of September, your web store’s sales were $50,000 and you had a total order of 5000, the AOV is 50,000 divided by 5000 which is 10.\n",
        "\n",
        "As rightly noted average order values for sneakers should not be as high as $3145.13.\n",
        "\n",
        "**What could be wrong with the calculation**\n",
        "\n",
        "Rather than Sum up the order amount and divide by sum of the the total_items \n",
        "i.e  Sum(order amount)/Sum(total_items), the calculation was done by summing up the the order amount and dividing by the count of the orders made i.e \n",
        "Sum(order amount)/count(orders) which is just the mean of the order_amount column as follows:\n"
      ]
    },
    {
      "cell_type": "code",
      "metadata": {
        "colab": {
          "base_uri": "https://localhost:8080/"
        },
        "id": "ouF3hYFsg8RT",
        "outputId": "f15c4237-6098-4676-fef4-39d1dc8dfa42"
      },
      "source": [
        "df['order_amount'].sum()/df['order_id'].count()"
      ],
      "execution_count": null,
      "outputs": [
        {
          "output_type": "execute_result",
          "data": {
            "text/plain": [
              "3145.128"
            ]
          },
          "metadata": {},
          "execution_count": 4
        }
      ]
    },
    {
      "cell_type": "code",
      "metadata": {
        "id": "-WYyvyfBb_yG",
        "colab": {
          "base_uri": "https://localhost:8080/"
        },
        "outputId": "25533129-49a7-4c7c-a38f-ad281ba1b1bc"
      },
      "source": [
        "df['order_amount'].mean()"
      ],
      "execution_count": null,
      "outputs": [
        {
          "output_type": "execute_result",
          "data": {
            "text/plain": [
              "3145.128"
            ]
          },
          "metadata": {},
          "execution_count": 6
        }
      ]
    },
    {
      "cell_type": "markdown",
      "metadata": {
        "id": "zzJ2OGkJhKfZ"
      },
      "source": [
        "**Think about a better way to evaluate this data.**\n",
        "\n",
        "A better way to solve for the AOV is to Sum up the order amount and divide by sum of the the total_items i.e Sum(order amount)/Sum(total_items)."
      ]
    },
    {
      "cell_type": "markdown",
      "metadata": {
        "id": "B4YcsqUhWMKk"
      },
      "source": [
        "**What metric would you report for this dataset?**\n",
        "\n",
        "The metric for AOV is Revenue(sum of the order_amount) and Number of orders(sum of the total_items).\n",
        "AOV=Revenue/Number_of_order"
      ]
    },
    {
      "cell_type": "markdown",
      "metadata": {
        "id": "A_UO0EyvkE6b"
      },
      "source": [
        "**What is its value?**"
      ]
    },
    {
      "cell_type": "code",
      "metadata": {
        "colab": {
          "base_uri": "https://localhost:8080/"
        },
        "id": "58kSda5k-4l4",
        "outputId": "0c91f998-de9a-4c4a-f8c4-b54a5c9ba174"
      },
      "source": [
        "Revenue=df['order_amount'].sum()\n",
        "Number_of_order=df['total_items'].sum()\n",
        "\n",
        "AOV=Revenue/Number_of_order\n",
        "print('Newly Calculated AOV is $' + str(AOV))"
      ],
      "execution_count": null,
      "outputs": [
        {
          "output_type": "stream",
          "name": "stdout",
          "text": [
            "Newly Calculated AOV is $357.92152221412965\n"
          ]
        }
      ]
    },
    {
      "cell_type": "markdown",
      "metadata": {
        "id": "CDVDeI9AWL-i"
      },
      "source": [
        "# **Question 2**"
      ]
    },
    {
      "cell_type": "markdown",
      "metadata": {
        "id": "laKv5M5YXQ1y"
      },
      "source": [
        "# How many orders were shipped by Speedy Express in total?\n"
      ]
    },
    {
      "cell_type": "markdown",
      "metadata": {
        "id": "8nhfqQLWWac4"
      },
      "source": [
        "QUERY: SELECT Count(*) FROM [Orders] where ShipperID=1\n",
        "\n",
        "Answer: 54"
      ]
    },
    {
      "cell_type": "markdown",
      "metadata": {
        "id": "aKZs9iRyYAQx"
      },
      "source": [
        "# What is the last name of the employee with the most orders?\n"
      ]
    },
    {
      "cell_type": "markdown",
      "metadata": {
        "id": "CCbeV7x2YIe7"
      },
      "source": [
        "QUERY: SELECT LastName FROM [Employees] where EmployeeID= (SELECT EmployeeID FROM [Orders] Group by EmployeeID ORDER BY COUNT(EmployeeID) DESC Limit 1)\n",
        "\n",
        "Answer: Peacock"
      ]
    },
    {
      "cell_type": "markdown",
      "metadata": {
        "id": "fFwE8u4ec5uF"
      },
      "source": [
        "# What product was ordered the most by customers in Germany?"
      ]
    },
    {
      "cell_type": "markdown",
      "metadata": {
        "id": "XqDiJ8guez3b"
      },
      "source": [
        "QUERY: SELECT * FROM [Products] where ProductID=(SELECT ProductID FROM [OrderDetails] where OrderID=(SELECT OrderID FROM [Orders] where CustomerID=(SELECT CustomerID FROM [Customers] where Country='Germany')))\n",
        "\n",
        "Answer: No result."
      ]
    }
  ]
}